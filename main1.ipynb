{
 "cells": [
  {
   "cell_type": "markdown",
   "id": "82a20921",
   "metadata": {},
   "source": [
    "# Popularity-Based Movie Recommendation System\n",
    "\n",
    "## Overview\n",
    "This notebook implements a popularity-based recommendation system that ranks movies based on their overall popularity using weighted rating calculations.\n",
    "\n",
    "## Methodology\n",
    "- **Weighted Rating Formula**: Balances movie quality with popularity\n",
    "- **Statistical Analysis**: Uses quantile-based thresholds\n",
    "- **Data Visualization**: Comprehensive charts and analysis"
   ]
  },
  {
   "cell_type": "code",
   "execution_count": 2,
   "id": "bb79d1d2",
   "metadata": {},
   "outputs": [
    {
     "name": "stdout",
     "output_type": "stream",
     "text": [
      "Libraries loaded successfully\n",
      "Execution time: 2025-09-28 11:21:19\n"
     ]
    }
   ],
   "source": [
    "import pandas as pd\n",
    "import numpy as np\n",
    "import matplotlib.pyplot as plt\n",
    "import seaborn as sns\n",
    "from datetime import datetime\n",
    "\n",
    "# Configure plotting\n",
    "plt.style.use('seaborn-v0_8')\n",
    "plt.rcParams['figure.figsize'] = (12, 8)\n",
    "plt.rcParams['font.size'] = 12\n",
    "sns.set_palette(\"husl\")\n",
    "\n",
    "print(\"Libraries loaded successfully\")\n",
    "print(f\"Execution time: {datetime.now().strftime('%Y-%m-%d %H:%M:%S')}\")"
   ]
  },
  {
   "cell_type": "code",
   "execution_count": 3,
   "id": "c5107407",
   "metadata": {},
   "outputs": [
    {
     "name": "stdout",
     "output_type": "stream",
     "text": [
      "Movies dataset: 4,803 records\n",
      "Ratings dataset: 100,004 records\n",
      "Credits dataset: 4,803 records\n",
      "\n",
      "Basic movie statistics:\n",
      "Average rating: 6.09\n",
      "Average vote count: 690\n",
      "Highest rating: 10.0\n",
      "Lowest rating: 0.0\n"
     ]
    }
   ],
   "source": [
    "# Load datasets\n",
    "movies = pd.read_csv('./data/movies.csv')\n",
    "credits = pd.read_csv('./data/credits.csv')\n",
    "ratings = pd.read_csv('./data/ratings.csv')\n",
    "\n",
    "print(f\"Movies dataset: {len(movies):,} records\")\n",
    "print(f\"Ratings dataset: {len(ratings):,} records\")\n",
    "print(f\"Credits dataset: {len(credits):,} records\")\n",
    "\n",
    "# Basic statistics\n",
    "print(f\"\\nBasic movie statistics:\")\n",
    "print(f\"Average rating: {movies['vote_average'].mean():.2f}\")\n",
    "print(f\"Average vote count: {movies['vote_count'].mean():.0f}\")\n",
    "print(f\"Highest rating: {movies['vote_average'].max()}\")\n",
    "print(f\"Lowest rating: {movies['vote_average'].min()}\")"
   ]
  },
  {
   "cell_type": "markdown",
   "id": "af39a4df",
   "metadata": {},
   "source": [
    "## Calculate a weighted rating\n"
   ]
  },
  {
   "cell_type": "markdown",
   "id": "78eb6199",
   "metadata": {},
   "source": [
    "### Weighted_Rating = (v / (v + m)) * R + (m / (v + m)) * C \n",
    "\n",
    "* v-number of votes for a movie\n",
    "* m-min number of votes required\n",
    "* R-average rating of the movie\n",
    "* C-average rating across all movies"
   ]
  },
  {
   "cell_type": "code",
   "execution_count": 4,
   "id": "96ff6b1f",
   "metadata": {},
   "outputs": [
    {
     "name": "stdout",
     "output_type": "stream",
     "text": [
      "Minimum votes required (m): 1838\n",
      "Mean vote across dataset (C): 6.092\n",
      "\n",
      "Additional statistics:\n",
      "Qualified movies (>1838 votes): 481\n",
      "Qualification percentage: 10.0%\n",
      "Average vote count: 690\n",
      "Median vote count: 235\n"
     ]
    }
   ],
   "source": [
    "# Calculate parameters for weighted rating\n",
    "m = movies['vote_count'].quantile(0.9)\n",
    "C = movies['vote_average'].mean()\n",
    "\n",
    "print(f\"Minimum votes required (m): {m:.0f}\")\n",
    "print(f\"Mean vote across dataset (C): {C:.3f}\")\n",
    "\n",
    "# Additional statistics\n",
    "print(f\"\\nAdditional statistics:\")\n",
    "print(f\"Qualified movies (>{m:.0f} votes): {len(movies[movies['vote_count'] >= m]):,}\")\n",
    "print(f\"Qualification percentage: {len(movies[movies['vote_count'] >= m])/len(movies)*100:.1f}%\")\n",
    "print(f\"Average vote count: {movies['vote_count'].mean():.0f}\")\n",
    "print(f\"Median vote count: {movies['vote_count'].median():.0f}\")"
   ]
  },
  {
   "cell_type": "code",
   "execution_count": 5,
   "id": "f0c3d5c3",
   "metadata": {},
   "outputs": [
    {
     "name": "stdout",
     "output_type": "stream",
     "text": [
      "Weighted rating function defined successfully!\n"
     ]
    }
   ],
   "source": [
    "def weighted_rating(df, m=m, C=C):\n",
    "    \"\"\"\n",
    "    Calculate weighted rating for a movie using the IMDB formula.\n",
    "    \n",
    "    Parameters:\n",
    "    df (pandas.Series): Movie data containing vote_average and vote_count\n",
    "    m (float): Minimum votes required to be listed\n",
    "    C (float): Mean vote across the entire dataset\n",
    "    \n",
    "    Returns:\n",
    "    float: Weighted rating score\n",
    "    \"\"\"\n",
    "    R = df['vote_average']  # Average rating of the movie\n",
    "    v = df['vote_count']    # Number of votes for the movie\n",
    "    \n",
    "    # Apply the weighted rating formula\n",
    "    wr = ((v / (v + m)) * R) + ((m / (v + m)) * C)\n",
    "    return wr\n",
    "\n",
    "print(\"Weighted rating function defined successfully!\")"
   ]
  },
  {
   "cell_type": "code",
   "execution_count": 6,
   "id": "9397888d",
   "metadata": {},
   "outputs": [],
   "source": [
    "movies[\"weighted_rating\"] = movies.apply(weighted_rating, axis=1)"
   ]
  },
  {
   "cell_type": "code",
   "execution_count": 7,
   "id": "56ae5c2c",
   "metadata": {},
   "outputs": [
    {
     "data": {
      "text/html": [
       "<div>\n",
       "<style scoped>\n",
       "    .dataframe tbody tr th:only-of-type {\n",
       "        vertical-align: middle;\n",
       "    }\n",
       "\n",
       "    .dataframe tbody tr th {\n",
       "        vertical-align: top;\n",
       "    }\n",
       "\n",
       "    .dataframe thead th {\n",
       "        text-align: right;\n",
       "    }\n",
       "</style>\n",
       "<table border=\"1\" class=\"dataframe\">\n",
       "  <thead>\n",
       "    <tr style=\"text-align: right;\">\n",
       "      <th></th>\n",
       "      <th>budget</th>\n",
       "      <th>genres</th>\n",
       "      <th>homepage</th>\n",
       "      <th>id</th>\n",
       "      <th>keywords</th>\n",
       "      <th>original_language</th>\n",
       "      <th>original_title</th>\n",
       "      <th>overview</th>\n",
       "      <th>popularity</th>\n",
       "      <th>production_companies</th>\n",
       "      <th>...</th>\n",
       "      <th>release_date</th>\n",
       "      <th>revenue</th>\n",
       "      <th>runtime</th>\n",
       "      <th>spoken_languages</th>\n",
       "      <th>status</th>\n",
       "      <th>tagline</th>\n",
       "      <th>title</th>\n",
       "      <th>vote_average</th>\n",
       "      <th>vote_count</th>\n",
       "      <th>weighted_rating</th>\n",
       "    </tr>\n",
       "  </thead>\n",
       "  <tbody>\n",
       "    <tr>\n",
       "      <th>0</th>\n",
       "      <td>237000000</td>\n",
       "      <td>[{\"id\": 28, \"name\": \"Action\"}, {\"id\": 12, \"nam...</td>\n",
       "      <td>http://www.avatarmovie.com/</td>\n",
       "      <td>19995</td>\n",
       "      <td>[{\"id\": 1463, \"name\": \"culture clash\"}, {\"id\":...</td>\n",
       "      <td>en</td>\n",
       "      <td>Avatar</td>\n",
       "      <td>In the 22nd century, a paraplegic Marine is di...</td>\n",
       "      <td>150.437577</td>\n",
       "      <td>[{\"name\": \"Ingenious Film Partners\", \"id\": 289...</td>\n",
       "      <td>...</td>\n",
       "      <td>2009-12-10</td>\n",
       "      <td>2787965087</td>\n",
       "      <td>162.0</td>\n",
       "      <td>[{\"iso_639_1\": \"en\", \"name\": \"English\"}, {\"iso...</td>\n",
       "      <td>Released</td>\n",
       "      <td>Enter the World of Pandora.</td>\n",
       "      <td>Avatar</td>\n",
       "      <td>7.2</td>\n",
       "      <td>11800</td>\n",
       "      <td>7.050669</td>\n",
       "    </tr>\n",
       "    <tr>\n",
       "      <th>1</th>\n",
       "      <td>300000000</td>\n",
       "      <td>[{\"id\": 12, \"name\": \"Adventure\"}, {\"id\": 14, \"...</td>\n",
       "      <td>http://disney.go.com/disneypictures/pirates/</td>\n",
       "      <td>285</td>\n",
       "      <td>[{\"id\": 270, \"name\": \"ocean\"}, {\"id\": 726, \"na...</td>\n",
       "      <td>en</td>\n",
       "      <td>Pirates of the Caribbean: At World's End</td>\n",
       "      <td>Captain Barbossa, long believed to be dead, ha...</td>\n",
       "      <td>139.082615</td>\n",
       "      <td>[{\"name\": \"Walt Disney Pictures\", \"id\": 2}, {\"...</td>\n",
       "      <td>...</td>\n",
       "      <td>2007-05-19</td>\n",
       "      <td>961000000</td>\n",
       "      <td>169.0</td>\n",
       "      <td>[{\"iso_639_1\": \"en\", \"name\": \"English\"}]</td>\n",
       "      <td>Released</td>\n",
       "      <td>At the end of the world, the adventure begins.</td>\n",
       "      <td>Pirates of the Caribbean: At World's End</td>\n",
       "      <td>6.9</td>\n",
       "      <td>4500</td>\n",
       "      <td>6.665696</td>\n",
       "    </tr>\n",
       "    <tr>\n",
       "      <th>2</th>\n",
       "      <td>245000000</td>\n",
       "      <td>[{\"id\": 28, \"name\": \"Action\"}, {\"id\": 12, \"nam...</td>\n",
       "      <td>http://www.sonypictures.com/movies/spectre/</td>\n",
       "      <td>206647</td>\n",
       "      <td>[{\"id\": 470, \"name\": \"spy\"}, {\"id\": 818, \"name...</td>\n",
       "      <td>en</td>\n",
       "      <td>Spectre</td>\n",
       "      <td>A cryptic message from Bond’s past sends him o...</td>\n",
       "      <td>107.376788</td>\n",
       "      <td>[{\"name\": \"Columbia Pictures\", \"id\": 5}, {\"nam...</td>\n",
       "      <td>...</td>\n",
       "      <td>2015-10-26</td>\n",
       "      <td>880674609</td>\n",
       "      <td>148.0</td>\n",
       "      <td>[{\"iso_639_1\": \"fr\", \"name\": \"Fran\\u00e7ais\"},...</td>\n",
       "      <td>Released</td>\n",
       "      <td>A Plan No One Escapes</td>\n",
       "      <td>Spectre</td>\n",
       "      <td>6.3</td>\n",
       "      <td>4466</td>\n",
       "      <td>6.239396</td>\n",
       "    </tr>\n",
       "  </tbody>\n",
       "</table>\n",
       "<p>3 rows × 21 columns</p>\n",
       "</div>"
      ],
      "text/plain": [
       "      budget                                             genres  \\\n",
       "0  237000000  [{\"id\": 28, \"name\": \"Action\"}, {\"id\": 12, \"nam...   \n",
       "1  300000000  [{\"id\": 12, \"name\": \"Adventure\"}, {\"id\": 14, \"...   \n",
       "2  245000000  [{\"id\": 28, \"name\": \"Action\"}, {\"id\": 12, \"nam...   \n",
       "\n",
       "                                       homepage      id  \\\n",
       "0                   http://www.avatarmovie.com/   19995   \n",
       "1  http://disney.go.com/disneypictures/pirates/     285   \n",
       "2   http://www.sonypictures.com/movies/spectre/  206647   \n",
       "\n",
       "                                            keywords original_language  \\\n",
       "0  [{\"id\": 1463, \"name\": \"culture clash\"}, {\"id\":...                en   \n",
       "1  [{\"id\": 270, \"name\": \"ocean\"}, {\"id\": 726, \"na...                en   \n",
       "2  [{\"id\": 470, \"name\": \"spy\"}, {\"id\": 818, \"name...                en   \n",
       "\n",
       "                             original_title  \\\n",
       "0                                    Avatar   \n",
       "1  Pirates of the Caribbean: At World's End   \n",
       "2                                   Spectre   \n",
       "\n",
       "                                            overview  popularity  \\\n",
       "0  In the 22nd century, a paraplegic Marine is di...  150.437577   \n",
       "1  Captain Barbossa, long believed to be dead, ha...  139.082615   \n",
       "2  A cryptic message from Bond’s past sends him o...  107.376788   \n",
       "\n",
       "                                production_companies  ... release_date  \\\n",
       "0  [{\"name\": \"Ingenious Film Partners\", \"id\": 289...  ...   2009-12-10   \n",
       "1  [{\"name\": \"Walt Disney Pictures\", \"id\": 2}, {\"...  ...   2007-05-19   \n",
       "2  [{\"name\": \"Columbia Pictures\", \"id\": 5}, {\"nam...  ...   2015-10-26   \n",
       "\n",
       "      revenue  runtime                                   spoken_languages  \\\n",
       "0  2787965087    162.0  [{\"iso_639_1\": \"en\", \"name\": \"English\"}, {\"iso...   \n",
       "1   961000000    169.0           [{\"iso_639_1\": \"en\", \"name\": \"English\"}]   \n",
       "2   880674609    148.0  [{\"iso_639_1\": \"fr\", \"name\": \"Fran\\u00e7ais\"},...   \n",
       "\n",
       "     status                                         tagline  \\\n",
       "0  Released                     Enter the World of Pandora.   \n",
       "1  Released  At the end of the world, the adventure begins.   \n",
       "2  Released                           A Plan No One Escapes   \n",
       "\n",
       "                                      title vote_average  vote_count  \\\n",
       "0                                    Avatar          7.2       11800   \n",
       "1  Pirates of the Caribbean: At World's End          6.9        4500   \n",
       "2                                   Spectre          6.3        4466   \n",
       "\n",
       "   weighted_rating  \n",
       "0         7.050669  \n",
       "1         6.665696  \n",
       "2         6.239396  \n",
       "\n",
       "[3 rows x 21 columns]"
      ]
     },
     "execution_count": 7,
     "metadata": {},
     "output_type": "execute_result"
    }
   ],
   "source": [
    "movies.head(3)"
   ]
  },
  {
   "cell_type": "code",
   "execution_count": 8,
   "id": "036a87f7",
   "metadata": {},
   "outputs": [
    {
     "name": "stdout",
     "output_type": "stream",
     "text": [
      "Top 10 Movies by Weighted Rating:\n",
      " 1. The Shawshank Redemption\n",
      "    Rating: 8.5 | Votes: 8,205 | Weighted: 8.059\n",
      "\n",
      " 2. Fight Club\n",
      "    Rating: 8.3 | Votes: 9,413 | Weighted: 7.939\n",
      "\n",
      " 3. The Dark Knight\n",
      "    Rating: 8.2 | Votes: 12,002 | Weighted: 7.920\n",
      "\n",
      " 4. Pulp Fiction\n",
      "    Rating: 8.3 | Votes: 8,428 | Weighted: 7.905\n",
      "\n",
      " 5. Inception\n",
      "    Rating: 8.1 | Votes: 13,752 | Weighted: 7.863\n",
      "\n",
      " 6. The Godfather\n",
      "    Rating: 8.4 | Votes: 5,893 | Weighted: 7.851\n",
      "\n",
      " 7. Interstellar\n",
      "    Rating: 8.1 | Votes: 10,867 | Weighted: 7.809\n",
      "\n",
      " 8. Forrest Gump\n",
      "    Rating: 8.2 | Votes: 7,927 | Weighted: 7.803\n",
      "\n",
      " 9. The Lord of the Rings: The Return of the King\n",
      "    Rating: 8.1 | Votes: 8,064 | Weighted: 7.727\n",
      "\n",
      "10. The Empire Strikes Back\n",
      "    Rating: 8.2 | Votes: 5,879 | Weighted: 7.698\n",
      "\n"
     ]
    },
    {
     "data": {
      "image/png": "[encoded data removed]",
      "text/plain": [
       "<Figure size 1200x800 with 1 Axes>"
      ]
     },
     "metadata": {},
     "output_type": "display_data"
    }
   ],
   "source": [
    "# Get top 10 movies by weighted rating\n",
    "print(\"Top 10 Movies by Weighted Rating:\")\n",
    "top_movies = movies.sort_values('weighted_rating', ascending=False)[['title', 'vote_count', 'vote_average', 'weighted_rating']].head(10)\n",
    "\n",
    "# Display with better formatting\n",
    "for i, (idx, row) in enumerate(top_movies.iterrows(), 1):\n",
    "    print(f\"{i:2d}. {row['title']}\")\n",
    "    print(f\"    Rating: {row['vote_average']:.1f} | Votes: {row['vote_count']:,} | Weighted: {row['weighted_rating']:.3f}\")\n",
    "    print()\n",
    "\n",
    "# Create visualization\n",
    "plt.figure(figsize=(12, 8))\n",
    "top_10 = movies.sort_values('weighted_rating', ascending=False).head(10)\n",
    "plt.barh(range(len(top_10)), top_10['weighted_rating'], color='skyblue', alpha=0.7)\n",
    "plt.yticks(range(len(top_10)), [title[:30] + '...' if len(title) > 30 else title for title in top_10['title']])\n",
    "plt.xlabel('Weighted Rating')\n",
    "plt.title('Top 10 Movies by Weighted Rating', fontsize=16, fontweight='bold')\n",
    "plt.gca().invert_yaxis()\n",
    "plt.tight_layout()\n",
    "plt.show()"
   ]
  },
  {
   "cell_type": "code",
   "execution_count": 9,
   "id": "dd62df59",
   "metadata": {},
   "outputs": [
    {
     "data": {
      "text/plain": [
       "{'title': {1881: 'The Shawshank Redemption',\n",
       "  662: 'Fight Club',\n",
       "  65: 'The Dark Knight',\n",
       "  3232: 'Pulp Fiction',\n",
       "  96: 'Inception',\n",
       "  3337: 'The Godfather',\n",
       "  95: 'Interstellar',\n",
       "  809: 'Forrest Gump',\n",
       "  329: 'The Lord of the Rings: The Return of the King',\n",
       "  1990: 'The Empire Strikes Back'}}"
      ]
     },
     "execution_count": 9,
     "metadata": {},
     "output_type": "execute_result"
    }
   ],
   "source": [
    "movies.sort_values('weighted_rating', ascending=False)[['title']].head(10).to_dict()"
   ]
  }
 ],
 "metadata": {
  "kernelspec": {
   "display_name": "Python 3",
   "language": "python",
   "name": "python3"
  },
  "language_info": {
   "codemirror_mode": {
    "name": "ipython",
    "version": 3
   },
   "file_extension": ".py",
   "mimetype": "text/x-python",
   "name": "python",
   "nbconvert_exporter": "python",
   "pygments_lexer": "ipython3",
   "version": "3.10.18"
  }
 },
 "nbformat": 4,
 "nbformat_minor": 5
}
